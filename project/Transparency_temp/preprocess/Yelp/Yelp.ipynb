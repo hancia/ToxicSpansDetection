{
 "cells": [
  {
   "cell_type": "markdown",
   "metadata": {},
   "source": [
    "## Downloading the Dataset\n",
    "\n",
    "Download and extract the 'yelp_review_full_csv.tar.gz' file from https://drive.google.com/drive/u/0/folders/0Bz8a_Dbh9Qhbfll6bVpmNUtUcFdjYmF2SEpmZUZUcVNiMUw1TWN6RDV3a0JHT3kxLVhVR2M\n",
    "\n",
    "Make sure that 'train.csv' and 'test.csv' files are present in this directory"
   ]
  },
  {
   "cell_type": "code",
   "execution_count": 11,
   "metadata": {},
   "outputs": [],
   "source": [
    "import os\n",
    "\n",
    "assert os.path.exists('train.csv') and os.path.exists('test.csv')"
   ]
  },
  {
   "cell_type": "code",
   "execution_count": 13,
   "metadata": {},
   "outputs": [],
   "source": [
    "!export PYTHONIOENCODING=utf8"
   ]
  },
  {
   "cell_type": "code",
   "execution_count": 14,
   "metadata": {},
   "outputs": [],
   "source": [
    "import nltk\n",
    "import pandas as pd\n",
    "import csv\n",
    "import sys\n",
    "import spacy\n",
    "import re\n",
    "import random\n",
    "import codecs\n",
    "from importlib import reload\n",
    "\n",
    "random.seed(1357)\n",
    "def read_input_file(input_file):\n",
    "    lines = csv.reader(codecs.open(input_file, \"r\", encoding=\"utf-8\"))\n",
    "    lines = list(lines)\n",
    "    random.shuffle(lines)\n",
    "    new_labels = []\n",
    "    new_lines = []\n",
    "    for label, line in lines:\n",
    "        if int(label) < 3:\n",
    "            new_labels.append(\"0\")\n",
    "            new_lines.append(line)\n",
    "        elif int(label) > 3:\n",
    "            new_labels.append(\"1\")\n",
    "            new_lines.append(line)\n",
    "            \n",
    "    print (new_labels[:2], new_lines[:2])\n",
    "    print(len(new_labels), len(new_lines))\n",
    "    return new_labels, new_lines\n",
    "                "
   ]
  },
  {
   "cell_type": "code",
   "execution_count": 15,
   "metadata": {},
   "outputs": [
    {
     "name": "stdout",
     "output_type": "stream",
     "text": [
      "['1', '1'] ['Amazing! I Purple rice makes me healthier.\\\\nI had Las Vegas roll, Crunch California, Oh My God, and Crazy roll. Foods are soooo good! I will revisit there again!', \"If i could give a 3.5 start I would but between a 3 and 4.. I'll lean towards a 4. Prices are reasonable for getting food on the strip... the sandwhich I got was wayyy too salty and don't get me wrong I love salty food.. but apparently even this got my pallet questioning the level of saltiness.. \\\\n\\\\nIt's a good  place to go grab a quick bite.  I'll come back again and give it another go.....\"]\n",
      "520000 520000\n",
      "520000\n"
     ]
    }
   ],
   "source": [
    "labels_train, content_train = read_input_file(\"train.csv\")\n",
    "assert(len(labels_train) == len(content_train))\n",
    "print (len(labels_train))\n",
    "\n",
    "labels_dev, content_dev = labels_train[:7000], content_train[:7000]\n",
    "keys_dev = [\"dev\"]* len(labels_dev)\n",
    "\n",
    "labels_train, content_train = labels_train[7000:], content_train[7000:]\n",
    "keys_train = [\"train\"]*len(labels_train)"
   ]
  },
  {
   "cell_type": "code",
   "execution_count": 16,
   "metadata": {},
   "outputs": [
    {
     "name": "stdout",
     "output_type": "stream",
     "text": [
      "['1', '1'] [\"Avec un ami, nous y avons pass\\\\u00e9 une journ\\\\u00e9e de r\\\\u00eave. Le terrain est parfaitement entretenu et il fut tr\\\\u00e8s agr\\\\u00e9able de s'y promener, au travers des diff\\\\u00e9rents jardins.\", \"If your a fan of Michael Jackson this is a must see. I'm not going to spoil it for anyone but it's a must see. It was a visual orgy of colors stunts and music. Truly an amazing show.\"]\n",
      "40000 40000\n",
      "40000\n"
     ]
    }
   ],
   "source": [
    "labels_test, content_test = read_input_file(\"test.csv\")\n",
    "keys_test = [\"test\"]*len(labels_test)\n",
    "assert(len(labels_test) == len(content_test))\n",
    "print (len(labels_test))"
   ]
  },
  {
   "cell_type": "code",
   "execution_count": 17,
   "metadata": {},
   "outputs": [
    {
     "data": {
      "text/plain": [
       "['I took my team here for a company lunch (about 12 of us) a few weeks ago. The waitress forgot to put in an order for two of my staff members and it took until after everyone else was finished for their food to come out. She still tried to charge me for those two dishes...hmm I wonder why...let\\'s say it together: \\\\\"gratuity is automatically included.\\\\\" It wasn\\'t until I asked to speak to her manager that she agreed to take them off.\\\\n\\\\nI also asked her to please take a picture of us at our table and one of the busboys decided to photobomb it on purpose...haha yeah funny, I am always game for a good laugh but at the end of the day it was very unprofessional as we were there for a company outing. I frequent Tempe Market Place and I\\'ll be taking my business to Cadillac Ranch or San Felipe\\'s from now on.',\n",
       " 'So after a ridiculous weekend  I decided there was absolutely no way I was doing anything today besides watching Real Housewifes of New Jersey and ordering chinese food. I actually managed to find 2 separate delivery menus, but ended up ordering from Asia Lee because they were cheaper and had a lower minimum delivery requirement. I also appreciated the \\\\\"New York Style\\\\\" note on the menu. An Arizona restaurant serving food from another country in the style of another state. It reminded me of a dream I had where I was the lead singer of a Green Day cover band that only did Journey songs, but in the style of Green Day. BTW, I\\'m totally starting that band.\\\\n\\\\nI got hot and sour soup, kung pao chicken, and an eggroll. They\\'re all sitting in front of me right now. Well, except the egg roll. That barely made it out of the bag.  The hot and sour soup is okay, but has too many undercooked carrots and not enough tofu.  The broth is a little weird too. If you like hot and sour soup, you might need to manage your expectations here.  Kung pao chicken is my go-to chinese entree because I need heat in my food or I feel like I\\'m not really eating. The heat is definitely lacking here, and I forgot to ask for Siracha. The lo mein is okay but also a little bland.\\\\n\\\\nI\\'m still eating it, but not as quickly as I should be, because it\\'s not that good. Plus, it\\'s hard to eat while simultaneously being sickened by the atrocious hair on Real Housewifes of New Jersey. But that\\'s not Asia Lee\\'s fault. Two stars.',\n",
       " 'My husband and I were married at Graceland Wedding Chapel 6/14/14 and we had the best experience ever! Rachel was so very helpful from the very beginning. She provided me with a great list of vendors and services to make our special day go smoothly. Our family and friends had such a great time. The dueling Elvis wedding package was worth every penny. Both were absolutely phenomenal. The photographer was awesome. We have such great pictures to share thanks to Abe.\\\\nWe highly recommend Graceland Wedding Chapel for a wedding or vow renewal. We are already planning to be back for our 10 year anniversary for our vow renewal.\\\\n\\\\nThanks again for being so awesome!\\\\nJaime and Mark',\n",
       " \"Not surprised at ALL that I ended up at a Mexican place for the second time before heading home from Vegas.  I do what I want!!\\\\n\\\\nIt was a Sunday and the football game was on, so it was pretty lively in there.  The service was a bit slow, but oh well.  Chips and salsa - for FREE - was a nice change from the other Mexican place we tried (Yolos @ Planet Hollywood), and the salsa had a nice smoky flavor to it.  \\\\n\\\\nMy chicken tortilla soup was just how I like it - good amount of broth-to-food ratio and everything was super flavorful - I looooove my cilantro, that's for sure! Chicken was nice and tender.  We also shared an appetizer of chicken taquitos, which also had a nice blast of flavor and topped with some deeeeeelicous cheese.  \\\\n\\\\nGood pick if you want something more on the casual side.\",\n",
       " \"If you call with questions about adoptions, they will NEVER answer the phone. You get hold music forever. I waited 20 minutes after the machine said the wait time is around 1 minute. I've called 3 times trying to get info on how to adopt a new stray I saw there... Have never gotten through. It's a long drive for me so it's very inconvenient for me to travel there just to get some questions answered.\\\\n\\\\nI would say around 60% if the dogs are not adoptable. They are either quarantined or strays that have to go through a waiting period. You can almost never find someone to help you look at a dog or answer questions. You can't put any dogs on hold to adopt when they become available. \\\\n\\\\nI entered a drawing for a stray puppy that became available and it was extremely fishy, pulling a number out of the box but instead of reading the winning number the lady went to the back room for a few minutes and then came out and told us some guy in another city won the dog... He wasn't even there.\\\\n\\\\nI went to the back to request to walk one of the other dogs and, before I could make my request, the guy closed the door on me and I waited for about 15 minutes in the sun before he opened the door to take my request. There was around 4 others in line.\\\\n\\\\nI did want to say that once they gave me the dog to play with, they have these nice play cages out back around the corner where you can throw a ball or chew toy and stuff. This is the only thing stopping it from being 1 star.\\\\n\\\\nI would say there's an extremely minimal effort being put in to actually find these animals homes. It could be so much better.\",\n",
       " 'Wasting millions of dollars to have public industry take hours to do what private industry could do in minutes. We need to close every MVD/DMV in the US and replace them with an independent, private equivalent. \\\\n\\\\nIf you gave this or any government facility more than 1 star - you are what is wrong with our country, please leave immediately.',\n",
       " 'This place has really gone down hill since relocating from Scottsdale. The food is over priced and poor quality. Spend your money and time some place else.',\n",
       " \"I love this place. All of the issues i had with this place on day two of operation are gone, the pizzas are coming out consistently perfect. I also love the upgraded decor in comparison to the Eastern locale. The things that could propel this restaurant in five stars would be some menu rotation (perhaps a pizza of the week?), better gelato (Art of Flavor or house made) and for Pete's sake can i get a ceramic plate! Plastic plates and steak knives are not friends. I still have mad love for you though Novecento!\",\n",
       " 'My husband and I stayed here during the Memorial Day weekend.  Overall, the hotel is very nice--rooms are well appointed, nice big shower with a bench, dark wood cabinetry, plenty of space to hang and store your clothes.  Also a cool thing in the room was digital, from opening the curtains to turning on the AC to turning off the bathroom lights, even turning on the light for housekeeping!\\\\n\\\\nThe room is small and so is the bathroom.  It\\'s nice there is a separate area for the toilet, but it\\'s separated by frosted glass, which by the way, you can still see through.  It was a good thing it was just me and the hubby.  I would not recommend this room for a group of people.\\\\n\\\\nHowever, this hotel (like all the other hotels in City Center) is very far from the other casinos like Caesar\\'s Palace or Venetian.  Even if you want to walk to Planet Hollywood, you would have to walk out of the hotel, down the stairs, then upstairs again, then downstairs again.\\\\n\\\\nAnother downside to this hotel was that on our 2nd night staying there, housekeeping never made up the room.  We left the room around 11 a.m. on the 2nd day we were there, came back around 3 p.m. and found the room was not made (even though the light for housekeeping was on the whole time).  I figured, it\\'s only 3 p.m., and we\\'re leaving in a couple of minutes so no big deal--our room will get serviced later when we get back.  Around 7 when we returned, still nothing.  I finally had to call the front desk and let them know.  They immediately asked if I had the service light on, and I said yes, \\\\\"All Day.\\\\\"  She said she would let housekeeping know right away.  My room was eventually serviced, but you would never expect something like this at the other hotels (like Palazzo or Bellagio).\\\\n\\\\nOverall, it\\'s nice to stay at the new hotels but there are nicer hotels with better service on the strip.',\n",
       " \"Not a bad pub, but tends to attract a strange clientele mix. \\\\n\\\\nConveniently located out the front of Haymarket train station it has it's fair share of travellers and backpackers biding their time before their train comes along as well as those long time locals who come hail, rain or shine to prop up the bar ensuring it doesn't fall over.\\\\n\\\\nAll the usual tipple available and the staff are friendly-ish. Not massive in size so be prepared to share a table with said locals or Hans and Helga from Dusseldorf.\"]"
      ]
     },
     "execution_count": 17,
     "metadata": {},
     "output_type": "execute_result"
    }
   ],
   "source": [
    "content_train[:10]"
   ]
  },
  {
   "cell_type": "code",
   "execution_count": null,
   "metadata": {},
   "outputs": [],
   "source": [
    "nlp = spacy.load('en', disable=['parser', 'tagger', 'ner'])\n",
    "\n",
    "def tokenize(text) :\n",
    "    #text = \" \".join(text)\n",
    "    text = text.replace(\"-LRB-\", '')\n",
    "    text = text.replace(\"-RRB-\", \" \")\n",
    "    text = text.strip()\n",
    "    tokens = \" \".join([t.text.lower() for t in nlp(text)])\n",
    "    return tokens\n",
    "\n",
    "labels = [int(i) for i in labels_train]\n",
    "content = [tokenize(i) for i in content_train]\n",
    "\n",
    "assert(len(labels) == len(content))\n",
    "labels[:3]\n",
    "content[:3]\n"
   ]
  },
  {
   "cell_type": "code",
   "execution_count": null,
   "metadata": {},
   "outputs": [],
   "source": [
    "content[0]\n",
    "labels = labels_train + labels_dev + labels_test\n",
    "content = content_train + content_dev + content_test\n",
    "keys = keys_train + keys_dev + keys_test"
   ]
  },
  {
   "cell_type": "code",
   "execution_count": null,
   "metadata": {},
   "outputs": [],
   "source": [
    "df = pd.DataFrame({'text' : content, 'label' : labels, 'exp_split' : keys})\n",
    "df.to_csv('yelp_dataset.csv', index=False)\n",
    "\n",
    "df = {'paragraph' : df_paragraphs, 'question' : df_questions, 'answer' : df_answers, 'exp_split' : df_exp_splits}\n",
    "df = pd.DataFrame(df)\n"
   ]
  },
  {
   "cell_type": "code",
   "execution_count": 2,
   "metadata": {},
   "outputs": [
    {
     "name": "stdout",
     "output_type": "stream",
     "text": [
      "Vocabulary size :  33936\n",
      "Found 21753 words in model out of 33936\n"
     ]
    }
   ],
   "source": [
    "%run \"../preprocess_data_BC.py\" --data_file yelp_dataset.csv --output_file ./vec_yelp.p --word_vectors_type fasttext.simple.300d --min_df 20"
   ]
  },
  {
   "cell_type": "code",
   "execution_count": null,
   "metadata": {},
   "outputs": [],
   "source": []
  }
 ],
 "metadata": {
  "kernelspec": {
   "display_name": "Python 3",
   "language": "python",
   "name": "python3"
  },
  "language_info": {
   "codemirror_mode": {
    "name": "ipython",
    "version": 3
   },
   "file_extension": ".py",
   "mimetype": "text/x-python",
   "name": "python",
   "nbconvert_exporter": "python",
   "pygments_lexer": "ipython3",
   "version": "3.8.3"
  }
 },
 "nbformat": 4,
 "nbformat_minor": 4
}
